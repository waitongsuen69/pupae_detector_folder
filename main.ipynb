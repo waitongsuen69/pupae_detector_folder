{
  "cells": [
    {
      "cell_type": "markdown",
      "metadata": {
        "id": "7r2lyfb0op-x"
      },
      "source": [
        "# Environment setup"
      ]
    },
    {
      "cell_type": "code",
      "execution_count": null,
      "metadata": {
        "id": "YUuLgwqvop-4",
        "colab": {
          "base_uri": "https://localhost:8080/"
        },
        "outputId": "f2198f2e-a940-486d-83dc-42328ce1a927"
      },
      "outputs": [
        {
          "output_type": "stream",
          "name": "stderr",
          "text": [
            "YOLOv5 🚀 v6.2-196-ge42c89d Python-3.7.14 torch-1.12.1+cu113 CPU\n"
          ]
        },
        {
          "output_type": "stream",
          "name": "stdout",
          "text": [
            "Setup complete ✅ (2 CPUs, 12.7 GB RAM, 38.7/107.7 GB disk)\n"
          ]
        }
      ],
      "source": [
        "# modify with caution, the change here may cause error\n",
        "%cd\n",
        "%cd ..\n",
        "%cd content\n",
        "%mkdir pupae_detector\n",
        "%cd pupae_detector\n",
        "!git clone https://github.com/ultralytics/yolov5  # clone\n",
        "%cd /content/pupae_detector/yolov5\n",
        "\n",
        "%pip install -qr requirements.txt  # install\n",
        "%pip install roboflow\n",
        "%pip install opencv-python==4.5.5.64\n",
        "\n",
        "from roboflow import Roboflow\n",
        "import torch\n",
        "import utils\n",
        "import os\n",
        "display = utils.notebook_init()  # checks"
      ]
    },
    {
      "cell_type": "code",
      "source": [
        "from google.colab import drive\n",
        "drive.mount('/content/drive')\n",
        "dir = \"/content/drive/MyDrive/pupae_detector_folder\" \n",
        "if not os.path.exists(dir):\n",
        "  os.mkdir(dir)\n",
        "\n",
        "# %cp -R /content/pupae_detector/yolov5/runs  /content/drive/MyDrive/pupae_detector_folder/\n",
        "%cp -R /content/drive/MyDrive/pupae_detector_folder/runs /content/pupae_detector/yolov5 "
      ],
      "metadata": {
        "colab": {
          "base_uri": "https://localhost:8080/"
        },
        "id": "3t1NT9HOEAMg",
        "outputId": "4dde8dac-82cf-460a-8108-f94be8cdafb2"
      },
      "execution_count": 22,
      "outputs": [
        {
          "output_type": "stream",
          "name": "stdout",
          "text": [
            "Drive already mounted at /content/drive; to attempt to forcibly remount, call drive.mount(\"/content/drive\", force_remount=True).\n"
          ]
        }
      ]
    },
    {
      "cell_type": "markdown",
      "metadata": {
        "id": "xaei7Q6Qop-5"
      },
      "source": [
        "# Place to put your dataset code here"
      ]
    },
    {
      "cell_type": "code",
      "execution_count": null,
      "metadata": {
        "pycharm": {
          "name": "#%%\n"
        },
        "id": "RsxhC3y5op-6",
        "colab": {
          "base_uri": "https://localhost:8080/"
        },
        "outputId": "990e9b59-e93e-4088-8a6d-79a245d9ad1d"
      },
      "outputs": [
        {
          "output_type": "stream",
          "name": "stdout",
          "text": [
            "loading Roboflow workspace...\n",
            "loading Roboflow project...\n",
            "Downloading Dataset Version Zip in /content/pupae_detector/datasets/10_10-1 to yolov5pytorch: 100% [2233875 / 2233875] bytes\n"
          ]
        },
        {
          "output_type": "stream",
          "name": "stderr",
          "text": [
            "Extracting Dataset Version Zip to /content/pupae_detector/datasets/10_10-1 in yolov5pytorch:: 100%|██████████| 60/60 [00:00<00:00, 1055.91it/s]\n"
          ]
        }
      ],
      "source": [
        "os.environ[\"DATASET_DIRECTORY\"] = \"/content/pupae_detector/datasets\"\n",
        "\n",
        "\n",
        "# replace here with your own dataset\n",
        "rf = Roboflow(api_key=\"N6BLYmALrZnv9R94uWiQ\")\n",
        "project = rf.workspace(\"university-of-adelaide-wt6zr\").project(\"10_10\")\n",
        "dataset = project.version(1).download(\"yolov5\")"
      ]
    },
    {
      "cell_type": "markdown",
      "metadata": {
        "id": "0LD3u2PGop-6"
      },
      "source": [
        "# Training section\n"
      ]
    },
    {
      "cell_type": "code",
      "execution_count": 23,
      "metadata": {
        "pycharm": {
          "name": "#%%\n"
        },
        "id": "8yHaEICRop-7",
        "colab": {
          "base_uri": "https://localhost:8080/"
        },
        "outputId": "baf23a07-7a57-477e-b446-0b5d691e12b4"
      },
      "outputs": [
        {
          "output_type": "stream",
          "name": "stdout",
          "text": [
            "/content/pupae_detector/yolov5\n",
            "\u001b[34m\u001b[1mtrain: \u001b[0mweights=yolov5s.pt, cfg=, data=/content/pupae_detector/datasets/10_10-1/data.yaml, hyp=data/hyps/hyp.scratch-low.yaml, epochs=5, batch_size=32, imgsz=512, rect=False, resume=False, nosave=False, noval=False, noautoanchor=False, noplots=False, evolve=None, bucket=, cache=ram, image_weights=False, device=, multi_scale=False, single_cls=False, optimizer=SGD, sync_bn=False, workers=8, project=runs/train, name=exp, exist_ok=False, quad=False, cos_lr=False, label_smoothing=0.0, patience=100, freeze=[0], save_period=-1, seed=0, local_rank=-1, entity=None, upload_dataset=False, bbox_interval=-1, artifact_alias=latest\n",
            "\u001b[34m\u001b[1mgithub: \u001b[0mup to date with https://github.com/ultralytics/yolov5 ✅\n",
            "YOLOv5 🚀 v6.2-196-ge42c89d Python-3.7.14 torch-1.12.1+cu113 CPU\n",
            "\n",
            "\u001b[34m\u001b[1mhyperparameters: \u001b[0mlr0=0.01, lrf=0.01, momentum=0.937, weight_decay=0.0005, warmup_epochs=3.0, warmup_momentum=0.8, warmup_bias_lr=0.1, box=0.05, cls=0.5, cls_pw=1.0, obj=1.0, obj_pw=1.0, iou_t=0.2, anchor_t=4.0, fl_gamma=0.0, hsv_h=0.015, hsv_s=0.7, hsv_v=0.4, degrees=0.0, translate=0.1, scale=0.5, shear=0.0, perspective=0.0, flipud=0.0, fliplr=0.5, mosaic=1.0, mixup=0.0, copy_paste=0.0\n",
            "\u001b[34m\u001b[1mClearML: \u001b[0mrun 'pip install clearml' to automatically track, visualize and remotely train YOLOv5 🚀 in ClearML\n",
            "\u001b[34m\u001b[1mComet: \u001b[0mrun 'pip install comet_ml' to automatically track and visualize YOLOv5 🚀 runs in Comet\n",
            "\u001b[34m\u001b[1mTensorBoard: \u001b[0mStart with 'tensorboard --logdir runs/train', view at http://localhost:6006/\n",
            "Overriding model.yaml nc=80 with nc=1\n",
            "\n",
            "                 from  n    params  module                                  arguments                     \n",
            "  0                -1  1      3520  models.common.Conv                      [3, 32, 6, 2, 2]              \n",
            "  1                -1  1     18560  models.common.Conv                      [32, 64, 3, 2]                \n",
            "  2                -1  1     18816  models.common.C3                        [64, 64, 1]                   \n",
            "  3                -1  1     73984  models.common.Conv                      [64, 128, 3, 2]               \n",
            "  4                -1  2    115712  models.common.C3                        [128, 128, 2]                 \n",
            "  5                -1  1    295424  models.common.Conv                      [128, 256, 3, 2]              \n",
            "  6                -1  3    625152  models.common.C3                        [256, 256, 3]                 \n",
            "  7                -1  1   1180672  models.common.Conv                      [256, 512, 3, 2]              \n",
            "  8                -1  1   1182720  models.common.C3                        [512, 512, 1]                 \n",
            "  9                -1  1    656896  models.common.SPPF                      [512, 512, 5]                 \n",
            " 10                -1  1    131584  models.common.Conv                      [512, 256, 1, 1]              \n",
            " 11                -1  1         0  torch.nn.modules.upsampling.Upsample    [None, 2, 'nearest']          \n",
            " 12           [-1, 6]  1         0  models.common.Concat                    [1]                           \n",
            " 13                -1  1    361984  models.common.C3                        [512, 256, 1, False]          \n",
            " 14                -1  1     33024  models.common.Conv                      [256, 128, 1, 1]              \n",
            " 15                -1  1         0  torch.nn.modules.upsampling.Upsample    [None, 2, 'nearest']          \n",
            " 16           [-1, 4]  1         0  models.common.Concat                    [1]                           \n",
            " 17                -1  1     90880  models.common.C3                        [256, 128, 1, False]          \n",
            " 18                -1  1    147712  models.common.Conv                      [128, 128, 3, 2]              \n",
            " 19          [-1, 14]  1         0  models.common.Concat                    [1]                           \n",
            " 20                -1  1    296448  models.common.C3                        [256, 256, 1, False]          \n",
            " 21                -1  1    590336  models.common.Conv                      [256, 256, 3, 2]              \n",
            " 22          [-1, 10]  1         0  models.common.Concat                    [1]                           \n",
            " 23                -1  1   1182720  models.common.C3                        [512, 512, 1, False]          \n",
            " 24      [17, 20, 23]  1     16182  models.yolo.Detect                      [1, [[10, 13, 16, 30, 33, 23], [30, 61, 62, 45, 59, 119], [116, 90, 156, 198, 373, 326]], [128, 256, 512]]\n",
            "Model summary: 214 layers, 7022326 parameters, 7022326 gradients, 15.9 GFLOPs\n",
            "\n",
            "Transferred 343/349 items from yolov5s.pt\n",
            "\u001b[34m\u001b[1moptimizer:\u001b[0m SGD(lr=0.01) with parameter groups 57 weight(decay=0.0), 60 weight(decay=0.0005), 60 bias\n",
            "\u001b[34m\u001b[1malbumentations: \u001b[0mBlur(p=0.01, blur_limit=(3, 7)), MedianBlur(p=0.01, blur_limit=(3, 7)), ToGray(p=0.01), CLAHE(p=0.01, clip_limit=(1, 4.0), tile_grid_size=(8, 8))\n",
            "\u001b[34m\u001b[1mtrain: \u001b[0mScanning '/content/pupae_detector/datasets/10_10-1/train/labels.cache' images and labels... 16 found, 0 missing, 0 empty, 0 corrupt: 100% 16/16 [00:00<?, ?it/s]\n",
            "\u001b[34m\u001b[1mtrain: \u001b[0mCaching images (0.0GB ram): 100% 16/16 [00:00<00:00, 27.39it/s]\n",
            "\u001b[34m\u001b[1mval: \u001b[0mScanning '/content/pupae_detector/datasets/10_10-1/valid/labels.cache' images and labels... 4 found, 0 missing, 0 empty, 0 corrupt: 100% 4/4 [00:00<?, ?it/s]\n",
            "\u001b[34m\u001b[1mval: \u001b[0mCaching images (0.0GB ram): 100% 4/4 [00:00<00:00,  7.47it/s]\n",
            "\n",
            "\u001b[34m\u001b[1mAutoAnchor: \u001b[0m4.41 anchors/target, 1.000 Best Possible Recall (BPR). Current anchors are a good fit to dataset ✅\n",
            "Plotting labels to runs/train/exp2/labels.jpg... \n",
            "Image sizes 512 train, 512 val\n",
            "Using 2 dataloader workers\n",
            "Logging results to \u001b[1mruns/train/exp2\u001b[0m\n",
            "Starting training for 5 epochs...\n",
            "\n",
            "      Epoch    GPU_mem   box_loss   obj_loss   cls_loss  Instances       Size\n",
            "        0/4         0G       0.14    0.04493          0        281        512: 100% 1/1 [00:21<00:00, 21.21s/it]\n",
            "                 Class     Images  Instances          P          R      mAP50   mAP50-95:   0% 0/1 [00:00<?, ?it/s]WARNING ⚠️ NMS time limit 0.700s exceeded\n",
            "                 Class     Images  Instances          P          R      mAP50   mAP50-95: 100% 1/1 [00:01<00:00,  1.77s/it]\n",
            "                   all          4         40          0          0          0          0\n",
            "\n",
            "      Epoch    GPU_mem   box_loss   obj_loss   cls_loss  Instances       Size\n",
            "        1/4         0G       0.14    0.04524          0        263        512: 100% 1/1 [00:14<00:00, 14.63s/it]\n",
            "                 Class     Images  Instances          P          R      mAP50   mAP50-95:   0% 0/1 [00:00<?, ?it/s]WARNING ⚠️ NMS time limit 0.700s exceeded\n",
            "                 Class     Images  Instances          P          R      mAP50   mAP50-95: 100% 1/1 [00:01<00:00,  1.94s/it]\n",
            "                   all          4         40          0          0          0          0\n",
            "\n",
            "      Epoch    GPU_mem   box_loss   obj_loss   cls_loss  Instances       Size\n",
            "        2/4         0G     0.1377    0.03947          0        219        512: 100% 1/1 [00:15<00:00, 15.03s/it]\n",
            "                 Class     Images  Instances          P          R      mAP50   mAP50-95:   0% 0/1 [00:00<?, ?it/s]WARNING ⚠️ NMS time limit 0.700s exceeded\n",
            "                 Class     Images  Instances          P          R      mAP50   mAP50-95: 100% 1/1 [00:01<00:00,  1.96s/it]\n",
            "                   all          4         40          0          0          0          0\n",
            "\n",
            "      Epoch    GPU_mem   box_loss   obj_loss   cls_loss  Instances       Size\n",
            "        3/4         0G      0.137    0.04344          0        252        512: 100% 1/1 [00:14<00:00, 14.50s/it]\n",
            "                 Class     Images  Instances          P          R      mAP50   mAP50-95:   0% 0/1 [00:00<?, ?it/s]WARNING ⚠️ NMS time limit 0.700s exceeded\n",
            "                 Class     Images  Instances          P          R      mAP50   mAP50-95: 100% 1/1 [00:01<00:00,  1.81s/it]\n",
            "                   all          4         40          0          0          0          0\n",
            "\n",
            "      Epoch    GPU_mem   box_loss   obj_loss   cls_loss  Instances       Size\n",
            "        4/4         0G     0.1385    0.04125          0        262        512: 100% 1/1 [00:14<00:00, 14.42s/it]\n",
            "                 Class     Images  Instances          P          R      mAP50   mAP50-95:   0% 0/1 [00:00<?, ?it/s]WARNING ⚠️ NMS time limit 0.700s exceeded\n",
            "                 Class     Images  Instances          P          R      mAP50   mAP50-95: 100% 1/1 [00:01<00:00,  1.79s/it]\n",
            "                   all          4         40          0          0          0          0\n",
            "\n",
            "5 epochs completed in 0.025 hours.\n",
            "Optimizer stripped from runs/train/exp2/weights/last.pt, 14.3MB\n",
            "Optimizer stripped from runs/train/exp2/weights/best.pt, 14.3MB\n",
            "\n",
            "Validating runs/train/exp2/weights/best.pt...\n",
            "Fusing layers... \n",
            "Model summary: 157 layers, 7012822 parameters, 0 gradients, 15.8 GFLOPs\n",
            "                 Class     Images  Instances          P          R      mAP50   mAP50-95:   0% 0/1 [00:00<?, ?it/s]WARNING ⚠️ NMS time limit 0.700s exceeded\n",
            "                 Class     Images  Instances          P          R      mAP50   mAP50-95: 100% 1/1 [00:01<00:00,  1.76s/it]\n",
            "                   all          4         40          0          0          0          0\n",
            "Results saved to \u001b[1mruns/train/exp2\u001b[0m\n"
          ]
        }
      ],
      "source": [
        "%cd /content/pupae_detector/yolov5\n",
        "\n",
        "\n",
        "!python train.py --img 512 --batch 32 --epochs 5 --data {dataset.location}/data.yaml --weights yolov5s.pt --cache\n",
        "%cp -R /content/pupae_detector/yolov5/runs/train/  /content/drive/MyDrive/pupae_detector_folder/runs/train/"
      ]
    },
    {
      "cell_type": "markdown",
      "metadata": {
        "id": "wLeom8AMop-7"
      },
      "source": [
        "# Detection section\n"
      ]
    },
    {
      "cell_type": "code",
      "execution_count": null,
      "metadata": {
        "pycharm": {
          "name": "#%%\n"
        },
        "id": "Q7NgoPrdop-8",
        "colab": {
          "base_uri": "https://localhost:8080/"
        },
        "outputId": "d229f516-f2b3-4833-e846-dd2877407185"
      },
      "outputs": [
        {
          "output_type": "stream",
          "name": "stdout",
          "text": [
            "/content/pupae_detector/yolov5\n",
            "Using training model: \n",
            "\u001b[34m\u001b[1mdetect: \u001b[0mweights=['/content/drive/MyDrive/pupae_detector_folder/runs/train/exp/weights/best.pt'], source=/content/pupae_detector/datasets/10_10-1/test/images, data=data/coco128.yaml, imgsz=[2024, 2024], conf_thres=0.4, iou_thres=0.3, max_det=1000, device=, view_img=False, save_txt=True, save_conf=False, save_crop=False, nosave=False, classes=None, agnostic_nms=False, augment=False, visualize=False, update=False, project=runs/detect, name=exp, exist_ok=False, line_thickness=1, hide_labels=False, hide_conf=False, half=False, dnn=False, vid_stride=1\n",
            "YOLOv5 🚀 v6.2-196-ge42c89d Python-3.7.14 torch-1.12.1+cu113 CPU\n",
            "\n",
            "Fusing layers... \n",
            "Model summary: 157 layers, 7012822 parameters, 0 gradients, 15.8 GFLOPs\n",
            "WARNING ⚠️ --img-size [2024, 2024] must be multiple of max stride 32, updating to [2048, 2048]\n",
            "image 1/4 /content/pupae_detector/datasets/10_10-1/test/images/IMG_20221010_131358_jpg.rf.ed40ef06ec10f663b1acb1f18b92048b.jpg: 1536x2048 10 pupaes, 3090.1ms\n",
            "image 2/4 /content/pupae_detector/datasets/10_10-1/test/images/IMG_20221010_131904_jpg.rf.feaf1570670dd2ad765170d97f36e34e.jpg: 1536x2048 10 pupaes, 3015.9ms\n",
            "image 3/4 /content/pupae_detector/datasets/10_10-1/test/images/IMG_20221010_132805_jpg.rf.37f9431fe6616c8bd62a0ad17e0be92f.jpg: 1536x2048 10 pupaes, 2914.2ms\n",
            "image 4/4 /content/pupae_detector/datasets/10_10-1/test/images/IMG_20221010_133832_jpg.rf.ba2ef5b1cbe62658e1253f994bca90f3.jpg: 1536x2048 8 pupaes, 2917.5ms\n",
            "Speed: 15.2ms pre-process, 2984.4ms inference, 3.2ms NMS per image at shape (1, 3, 2048, 2048)\n",
            "Results saved to \u001b[1mruns/detect/exp5\u001b[0m\n",
            "4 labels saved to runs/detect/exp5/labels\n",
            "You are using model： \n"
          ]
        }
      ],
      "source": [
        "# modify here\n",
        "\n",
        "#version of model, if you dont have any recon version, use 0 for the latest model\n",
        "model = 0\n",
        "#change here for different style of detection box\n",
        "only_show_box = False\n",
        "#if you want to save each detection, change here to True\n",
        "back_up = True\n",
        "\n",
        "#detection parameter\n",
        "img_size = 2024\n",
        "confidence = 0.4\n",
        "iou_value = 0.3\n",
        "\n",
        "\n",
        "%cd /content/pupae_detector/yolov5\n",
        "\n",
        "# detect latest model version\n",
        "import fnmatch\n",
        "if model == 0  and back_up == True:\n",
        "  dir_path = r'/content/drive/MyDrive/pupae_detector_folder/runs/train'\n",
        "  # dir_path = r'/content/pupae_detector/yolov5/runs/train'\n",
        "  model = len(fnmatch.filter(os.listdir(dir_path), '*'))\n",
        "\n",
        "\n",
        "\n",
        "if model is 1:\n",
        "  model_name = \"\"\n",
        "else:\n",
        "  model_name = str(model)\n",
        "\n",
        "print(\"Using training model:\",model_name)\n",
        "\n",
        "# target = \"runs/train/exp\"+model_name+\"/weights/best.pt\"\n",
        "target = \"/content/drive/MyDrive/pupae_detector_folder/runs/train/exp\"+model_name+\"/weights/best.pt\"\n",
        "\n",
        "if only_show_box is True:\n",
        "  box_setting = \"--hide-labels --hide-conf\"\n",
        "else:\n",
        "  box_setting = \"\"\n",
        "\n",
        "if back_up is True:\n",
        "  back = \"\"\n",
        "else:\n",
        "  back = \"--exist-ok\"\n",
        "  %cd runs/detect/exp/\n",
        "  %rm -rf labels\n",
        "  %cd /content/pupae_detector/yolov5\n",
        "\n",
        "location = dataset.location+\"/test/images\"\n",
        "\n",
        "# change your number here for better detection\n",
        "!python detect.py --weights {target} --img {img_size} --conf {confidence} --iou {iou_value} --source {location} {box_setting} {back} --save-txt  --line-thickness 1\n",
        "\n",
        "%cp -R /content/pupae_detector/yolov5/runs/detect/  /content/drive/MyDrive/pupae_detector_folder/runs/detect/"
      ]
    },
    {
      "cell_type": "markdown",
      "metadata": {
        "id": "j8TiHtWVop-9"
      },
      "source": [
        "# Show result"
      ]
    },
    {
      "cell_type": "code",
      "execution_count": null,
      "metadata": {
        "pycharm": {
          "name": "#%%\n"
        },
        "id": "W97rldo3op-9"
      },
      "outputs": [],
      "source": [
        "#if you change back_up above to true, it will automatically show the latest detect result, if you want to view specific result, change here.\n",
        "exp_version = 0\n",
        "\n",
        "# detect latest model version\n",
        "if exp_version == 0  and back_up == True:\n",
        "  dir_path = r'/content/pupae_detector/yolov5/runs/detect'\n",
        "  exp_version = len(fnmatch.filter(os.listdir(dir_path), '*'))\n",
        "\n",
        "if back_up is False:\n",
        "  exp_version = 1\n",
        "  \n",
        "if exp_version is 1:\n",
        "  exp_name = \"\"\n",
        "else:\n",
        "  exp_name = str(exp_version)\n",
        "\n",
        "print(\"Using detection result:\",exp_name)\n",
        "\n",
        "import glob\n",
        "from pathlib import Path\n",
        "from IPython.display import Image, display\n",
        "\n",
        "# %cd /content/pupae_detector/yolov5\n",
        "for imageName in glob.glob('/content/pupae_detector/yolov5/runs/detect/exp'+exp_name+'/*.jpg'): #assuming JPG\n",
        "    display(Image(filename=imageName))\n",
        "    print(\"\\n\")\n",
        "    \n",
        "print(\"Detect version : exp\"+exp_name)\n",
        "for txt in glob.glob('/content/pupae_detector/yolov5/runs/detect/exp'+exp_name+'/labels/*.txt'): #assuming TXT\n",
        "    Num = 0\n",
        "    fp = open(txt, \"r\")\n",
        "    Num = len(fp.readlines())\n",
        "    print(\"Number of pupae in image [\"+ Path(txt).stem +\"]: \\n\", Num)\n"
      ]
    },
    {
      "cell_type": "markdown",
      "source": [
        "# File management code\n"
      ],
      "metadata": {
        "id": "V7N02ZQt2M6t"
      }
    },
    {
      "cell_type": "markdown",
      "source": [
        "<p>\n",
        "In this toggle, every line start with #(comments), which means it's not in funtion in this step. You can delete the # in front to make that line of code functional and recomment it by adding # back\n",
        "\n",
        "all the code start with %\n",
        "</p>\n",
        "<h3>Code syntax</h3>\n",
        "<p># Code1 usage  </p>\n",
        "<p># function explaination</p>\n",
        "<p>Code1_code</p>\n",
        "<p>Code1_code</p>\n",
        "<br>\n",
        "<p># Code2 usage</p>\n",
        "<p>...</p>"
      ],
      "metadata": {
        "id": "Nqu-Dd0K7D0n"
      }
    },
    {
      "cell_type": "code",
      "source": [
        "#1.Delete all local dataset\n",
        "#This is use to clean up all the datasets you import and use before \n",
        "# %cd /content/pupae_detector/\n",
        "# %rm -rf datasets\n",
        "\n",
        "#2.Delete all models \n",
        "#This is use to clean up all detect models, after using this code, your next model start from 1\n",
        "# %cd /content/pupae_detector/yolov5/runs/\n",
        "# %rm -rf train\n",
        "\n",
        "#3.Delete all experiments \n",
        "#This is use to clean up all detect experiments, after using this code, your next experiment start from 1\n",
        "# %cd /content/pupae_detector/yolov5/runs/\n",
        "# %rm -rf detect\n",
        "\n",
        "%cp -R /content/pupae_detector/yolov5/runs  /content/drive/MyDrive/pupae_detector_folder/\n",
        "\n",
        "#4.Delete pupae detector\n",
        "#This will delete all the information including code from your local\n",
        "# %cd /content/\n",
        "# %rm -rf pupae_detector\n",
        "\n",
        "\n",
        "#save info to google_drive\n",
        "# scp -r ~/content.pupae_detector/yolov5/runs ~/content/drive/pupae_counter "
      ],
      "metadata": {
        "id": "Be_lG03J2WZF"
      },
      "execution_count": null,
      "outputs": []
    },
    {
      "cell_type": "code",
      "source": [
        "%rm -rf /content/pupae_detector/yolov5/pupae_detector_folder/"
      ],
      "metadata": {
        "id": "oeblZiDKQYSM"
      },
      "execution_count": 21,
      "outputs": []
    }
  ],
  "metadata": {
    "kernelspec": {
      "display_name": "Python 3.8.12 ('boost_start')",
      "language": "python",
      "name": "python3"
    },
    "language_info": {
      "codemirror_mode": {
        "name": "ipython",
        "version": 3
      },
      "file_extension": ".py",
      "mimetype": "text/x-python",
      "name": "python",
      "nbconvert_exporter": "python",
      "pygments_lexer": "ipython3",
      "version": "3.8.12"
    },
    "vscode": {
      "interpreter": {
        "hash": "bed5a8c11532dfb8e36f07b3adc5a03d0bba25314ba7dd169f89ac3107490329"
      }
    },
    "colab": {
      "provenance": [],
      "collapsed_sections": []
    }
  },
  "nbformat": 4,
  "nbformat_minor": 0
}